{
  "nbformat": 4,
  "nbformat_minor": 0,
  "metadata": {
    "colab": {
      "provenance": [],
      "collapsed_sections": [
        "RvNQZopbHAdw",
        "odynO5wHQ_le",
        "lRWYHgNiuG73"
      ]
    },
    "kernelspec": {
      "name": "python3",
      "display_name": "Python 3"
    },
    "language_info": {
      "name": "python"
    }
  },
  "cells": [
    {
      "cell_type": "markdown",
      "metadata": {
        "id": "view-in-github"
      },
      "source": [
        "<a href=\"https://colab.research.google.com/github/PrincetonUniversity/python-code-cleanup/blob/main/python_cleanup.ipynb\" target=\"_parent\"><img src=\"https://colab.research.google.com/assets/colab-badge.svg\" alt=\"Open In Colab\"/></a>"
      ]
    },
    {
      "cell_type": "markdown",
      "source": [
        "# Python Code Cleanup: Tackle These 10 Common Issues"
      ],
      "metadata": {
        "id": "inK5Rbz1r6xj"
      }
    },
    {
      "cell_type": "markdown",
      "source": [
        "## Introduction\n",
        "\n",
        "Python does a lot of things really well.  It's easy to read, fun to write, and is a great \"glue\" for performing system calls or interacting with performant, compiled code.  Open source and scientific libraries have secured a place for python in research code, allowing you to get more done in less time.\n",
        "\n",
        "\n",
        "Python does a few things poorly.  Because python is not compiled, the computer isn't able to perform simple optimizations to speed up your code the way C++ or Java can.  Because python isn't strictly typed, it has to carry around a lot of extra information on what variables contain and what functions they can call.  This provides a lot of flexibility, but at the cost of speed.  When you append to a list in a for loop, there is overhead to look up the append function, not to mention having to grow the list occasionally.  In general, more lines of python code will be slower than fewer.\n",
        "\n",
        "\n",
        "Here we will cover 10 common mistakes of new programmers.  Many result from learning a compiled language first and relying on c-style for loops.  Others are because some python-specific constructs are hard to grasp the first time you learn about them.  You'll learn why the original methods are slow or hard to read and what to replace them with.\n",
        "\n",
        "\n",
        "Many of the replacements should be \"drop in\" replacements and you can perform them on any code base.  With any refactoring (code changing), it's always a good idea to have some *tests* in place and use *version control*.  Tests can be as simple as saving an output before changing things then comparing the output with your changed version.  Version control can just be copying your code somewhere as a backup.  Ideally you'd use a pytest suite to cover all your code and git, but we won't cover those here.  \n",
        "\n",
        "In summary:\n",
        "- python is slow\n",
        "- correct code is better than easy to read code\n",
        "- easy to read code is better than fast code"
      ],
      "metadata": {
        "id": "n2jucPSasD7b"
      }
    },
    {
      "cell_type": "code",
      "source": [
        "# we will use this example for the first few exercises\n",
        "import re\n",
        "import random\n",
        "import itertools\n",
        "\n",
        "rng = random.Random(12345)\n",
        "\n",
        "names = [\n",
        "    \"abby\",\n",
        "    \"beth\",\n",
        "    \"cathie\",\n",
        "    \"deborah\",\n",
        "    \"ellie\",\n",
        "    \"francine\",\n",
        "    \"grace\",\n",
        "    \"helen\",\n",
        "    \"irene\",\n",
        "    \"jess\",\n",
        "    \"kate\",\n",
        "]\n",
        "statements = [\n",
        "    \"[10] is nice and round\",\n",
        "    \"crazy [8]s\",\n",
        "    \"8[6]7 5309\",\n",
        "    \"[4] corners on a square\",\n",
        "    \"I think that [2] is the best\",\n",
        "    \"[0], how are your corner cases?\",\n",
        "    \"When I look back\" * 100 + \"[11]\",\n",
        "    \"[12] the number is here but your regex will read to the \" + \"end \" * 100,\n",
        "    \"This number is far too large, but I like 100, start with [19]\",\n",
        "    \"[13]\",\n",
        "    \"[15]\",\n",
        "]\n",
        "\n",
        "# going to repeat those a few times to make improvements more noticible\n",
        "repeats = 100\n",
        "names = [name + str(rng.randint(0, 10000)) for name\n",
        "         in itertools.chain.from_iterable(itertools.repeat(names, repeats))]\n",
        "statements = list(itertools.chain.from_iterable(itertools.repeat(statements, repeats)))\n",
        "\n",
        "\n",
        "def get_fibs(names: list, statements: list):\n",
        "  result = {}\n",
        "  for name in names:\n",
        "    index = names.index(name)\n",
        "    statement = statements[index]\n",
        "    value = parse_line(statement)\n",
        "    result[name] = fibonacci(value)\n",
        "  return result\n",
        "\n",
        "def fibonacci(n: int) -> int:\n",
        "  if n > 1:\n",
        "    return fibonacci(n-1) + fibonacci(n-2)\n",
        "  if n == 1:\n",
        "    return 1\n",
        "  return 0\n",
        "\n",
        "def parse_line(line: str) -> int:\n",
        "  match = re.match(\".*\\[(\\d+)].*\", line)\n",
        "  return int(match.group(1))\n",
        "\n",
        "%timeit get_fibs(names, statements)"
      ],
      "metadata": {
        "id": "Ew4AWEP4yTNh"
      },
      "execution_count": null,
      "outputs": []
    },
    {
      "cell_type": "markdown",
      "source": [
        "## Cache your calls\n",
        "\n",
        "I don't always use this, but the `fibonacci` function *really* benefits from caching.  Let's think about a call to `fibonacci(10)`.  The first round of recursion calls `fibonacci(9) + fibonacci(8)`, `fibonacci(9) = fibonacci(8) + fibonacci(7)` and you can already see we have to determine `fibonacci(8)` twice.  Going through the entire exercise, you get the following counts:"
      ],
      "metadata": {
        "id": "93FxLY8pwxa5"
      }
    },
    {
      "cell_type": "code",
      "source": [
        "def print_calls(n):\n",
        "  calls = [0] * (n +1)\n",
        "  def fibonacci(n: int) -> int:\n",
        "    calls[n] += 1\n",
        "    if n > 1:\n",
        "      return fibonacci(n-1) + fibonacci(n-2)\n",
        "    if n == 1:\n",
        "      return 1\n",
        "    return 0\n",
        "  result = fibonacci(n)\n",
        "  print(f\"fibonacci({n}) = {result}\")\n",
        "  for i in range(n, 0, -1):\n",
        "    print(f\"fibonacci({i})\\t{calls[i]}\")\n",
        "print_calls(10)"
      ],
      "metadata": {
        "id": "t3je64g7ZA9Z"
      },
      "execution_count": null,
      "outputs": []
    },
    {
      "cell_type": "markdown",
      "source": [
        "### Exercise\n",
        "\n",
        "We already have a base case for `n == 1`, what would happen to your call counts if you added base cases for `n == 2`, `n == 3`, `n == 10`?"
      ],
      "metadata": {
        "id": "BoySUG3ZZ9yD"
      }
    },
    {
      "cell_type": "markdown",
      "source": [
        "Clearly we can vastly speed up our function if we add in more base cases to short circuit the logic for the longer computation.  The downsides are more lines of code to write, maintain and ship.  The better solution is to store and reuse intermediate computations, a method called \"caching\".  In python, this is a simple function decorator."
      ],
      "metadata": {
        "id": "hrSJlS9-4slk"
      }
    },
    {
      "cell_type": "code",
      "source": [
        "import functools\n",
        "\n",
        "def print_calls(n):\n",
        "  calls = [0] * (n +1)\n",
        "  @functools.cache\n",
        "  def fibonacci(n: int) -> int:\n",
        "    calls[n] += 1\n",
        "    if n > 1:\n",
        "      return fibonacci(n-1) + fibonacci(n-2)\n",
        "    if n == 1:\n",
        "      return 1\n",
        "    return 0\n",
        "  result = fibonacci(n)\n",
        "  print(f\"fibonacci({n}) = {result}\")\n",
        "  for i in range(n, 0, -1):\n",
        "    print(f\"fibonacci({i})\\t{calls[i]}\")\n",
        "print_calls(10)"
      ],
      "metadata": {
        "id": "K6bQnclf5Ftu"
      },
      "execution_count": null,
      "outputs": []
    },
    {
      "cell_type": "markdown",
      "source": [
        "Now once a value is calculated once, python remembers the return value and just returns that the next time.  It is effectively storing a dictionary of inputs and outputs and only running your function if the answer is not already stored.\n",
        "\n",
        "Why not cache everything?\n",
        "> Time/space tradeoffs.  This is common in computing, you can save time by storing the result, but you have to store the data somewhere.  Think about adding in more base cases to your recursion, it's faster but now you have more code to manage.\n",
        "\n",
        "So when should you use caching?\n",
        "- **You call your function a lot.**  Recursion is a good example since each top-level call has many recursive calls.\n",
        "- **Your function has *a few* inputs.**  Limiting to say integers less than 1000 is reasonable to cache, but a function operating on strings or doubles has too many possible inputs.\n",
        "- **Your function is a pure function.**  A method that depends on some object state or external value cannot be cached.\n",
        "- **Your function is expensive.**  The time/space tradeoff is easier to satisfy if your function is computationally expensive.  While fibonacci calculations are just addition, the function calls and recursion are expensive and grow exponentially.\n"
      ],
      "metadata": {
        "id": "wBKE8Sr_5Nat"
      }
    },
    {
      "cell_type": "markdown",
      "source": [
        "### Exercise\n",
        "Add caching to our example code.  What is the new runtime?"
      ],
      "metadata": {
        "id": "yXSDjCctDQqe"
      }
    },
    {
      "cell_type": "code",
      "source": [
        "# we will use this example for the first few exercises\n",
        "import re\n",
        "import random\n",
        "import itertools\n",
        "\n",
        "rng = random.Random(12345)\n",
        "\n",
        "names = [\n",
        "    \"abby\",\n",
        "    \"beth\",\n",
        "    \"cathie\",\n",
        "    \"deborah\",\n",
        "    \"ellie\",\n",
        "    \"francine\",\n",
        "    \"grace\",\n",
        "    \"helen\",\n",
        "    \"irene\",\n",
        "    \"jess\",\n",
        "    \"kate\",\n",
        "]\n",
        "statements = [\n",
        "    \"[10] is nice and round\",\n",
        "    \"crazy [8]s\",\n",
        "    \"8[6]7 5309\",\n",
        "    \"[4] corners on a square\",\n",
        "    \"I think that [2] is the best\",\n",
        "    \"[0], how are your corner cases?\",\n",
        "    \"When I look back\" * 100 + \"[11]\",\n",
        "    \"[12] the number is here but your regex will read to the \" + \"end \" * 100,\n",
        "    \"This number is far too large, but I like 100, start with [19]\",\n",
        "    \"[13]\",\n",
        "    \"[15]\",\n",
        "]\n",
        "\n",
        "# going to repeat those a few times to make improvements more noticible\n",
        "repeats = 100\n",
        "names = [name + str(rng.randint(0, 10000)) for name\n",
        "         in itertools.chain.from_iterable(itertools.repeat(names, repeats))]\n",
        "statements = list(itertools.chain.from_iterable(itertools.repeat(statements, repeats)))\n",
        "\n",
        "def get_fibs(names: list, statements: list):\n",
        "  result = {}\n",
        "  for name in names:\n",
        "    index = names.index(name)\n",
        "    statement = statements[index]\n",
        "    value = parse_line(statement)\n",
        "    result[name] = fibonacci(value)\n",
        "  return result\n",
        "\n",
        "def fibonacci(n: int) -> int:\n",
        "  if n > 1:\n",
        "    return fibonacci(n-1) + fibonacci(n-2)\n",
        "  if n == 1:\n",
        "    return 1\n",
        "  return 0\n",
        "\n",
        "def parse_line(line: str) -> int:\n",
        "  match = re.match(\".*\\[(\\d+)].*\", line)\n",
        "  return int(match.group(1))\n",
        "\n",
        "%timeit get_fibs(names, statements)"
      ],
      "metadata": {
        "id": "n8_tL4D37FTI"
      },
      "execution_count": null,
      "outputs": []
    },
    {
      "cell_type": "markdown",
      "source": [
        "## Pythonic looping"
      ],
      "metadata": {
        "id": "I137B8oQwOz4"
      }
    },
    {
      "cell_type": "markdown",
      "source": [
        "Coming from C-style languages, for loops are mostly restricted to iterating over an index and using that to access array elements.  Python loops use iterators and generators in a way that is largely supported, performant, and fun.  If you have `for i in range(len(array)):` you aren't using python to its fullest!  \n",
        "\n",
        "Get comfortable with directly accessing the values from nearly any collection, list, dict, set, tuples, or numpy arrays!  Since the iterator protocol is easy to extend, most libraries that implement a collection will also support access through a for loop.\n",
        "```python\n",
        "# BAD\n",
        "array = list(range(10))  # some data\n",
        "for i in range(len(array)):\n",
        "  value = array[i]\n",
        "  # do work\n",
        "\n",
        "# BETTER!\n",
        "array = list(range(10))  # some data\n",
        "for value in array:\n",
        "  # do work\n",
        "```\n",
        "\n",
        "There are several reasons direct iteration is superior.\n",
        "1. It is clearer.  You want to do something with every element in a list, the syntax is nearly english.\n",
        "2. It is performant.  You don't have to determine the length of your collection and create a range object.  More importantly, you don't have to then access the value from the collection.  Depending on the collection, that could be costly.\n",
        "\n",
        "Expanding beyond direct iteration, you can enhance your for loops with functions like `sorted` or `reversed`.  With a dictionary, you can directly iterate over keys and values using the `.items()` function.  More on that later...\n",
        "\n",
        "Our code example already uses `for name in names`, but we will evetually update that once we cover a few more changes.  For your own code, search for `range(len` and try to replace everyone you find!"
      ],
      "metadata": {
        "id": "P0nGMN3U7ldy"
      }
    },
    {
      "cell_type": "markdown",
      "source": [
        "### But I can't use direct iteration 😞\n",
        "\n",
        "Well not with that attitude!  Most intro courses will leave you with a basic example, but in real applications you have to do more sophisticated programming than `# do work`.  But you can do things like keep track of your index or work with multiple collections (at once or sequentially) along with more advanced combinations, nested loops, and more.  Maybe the problem isn't with the loop, but your choice of data structures.  If indices are used for relating items between multiple lists, you probably want a dict or data table.\n",
        "\n",
        "Don't be discouraged and fall back into using indices, think of it like a puzzle and keep experimenting.\n"
      ],
      "metadata": {
        "id": "PTpVKmDO-MXR"
      }
    },
    {
      "cell_type": "markdown",
      "source": [
        "## Find the itertools function for you"
      ],
      "metadata": {
        "id": "mdxjjzhoxPfr"
      }
    },
    {
      "cell_type": "markdown",
      "source": [
        "Itertools is a builtin library that provides most iteration functions you can think of.  Repeat an item forever, sure!  Group list items into batches?  Chain multiple lists, tee iterators, produce a cartesian product?  All and more!\n",
        "\n",
        "Python also has builtin functions that you don't have to import.  Things like zip, all, any, filter, map, sorted, reversed, and enumerate.\n",
        "\n",
        "Before you go and dive into complex chains of iterables, be aware that the most clever and performant solution is not always the best.  A verbose for loop that you can understand is probably better than 3 nested function calls you found on stack overflow.  But with that warning, let's work from fundamental to more complex."
      ],
      "metadata": {
        "id": "ogtVXk9B_lnU"
      }
    },
    {
      "cell_type": "markdown",
      "source": [
        "### zip and enumerate for fun and profit\n",
        "\n",
        "The first pattern that breaks a simple `for value in array` loop is when you have multiple collections that need to be addressed in step.  Say you have a list of subplots, x values, y values, and colors.  You may want to do something like\n",
        "```python\n",
        "for i in range(len(subplots)):\n",
        "  subplot = subplots[i]\n",
        "  x_val = x_values[i]\n",
        "  y_val = y_values[i]\n",
        "  color = colors[i]\n",
        "  subplot.plot(x_val, y_val, color)\n",
        "```\n",
        "\n",
        "When you need to correlate items between collections, reach for zip.  Zip emits one item from each collection at each loop iterations.  When any collection is fully traversed, the loop exits.  If you want to instead zip until all collections are traversed, look at `itertools.zip_longest`, which allows you to specify a default value to pass for empty collections.  Using zip for our previous example:\n",
        "```python\n",
        "for subplot, x_val, y_val, color in zip(subplots, x_values, y_values, colors):\n",
        "  subplot.plot(x_val, y_val, color)\n",
        "```\n",
        "\n",
        "Of course, sometimes you *need* the loop counter for displaying a label or setting a value in another list.  You can still stay away from `range(len` with `enumerate`.  Enumerate emits the loop counter and the item on each loop iteration.\n",
        "```python\n",
        "for i, value in enumerate(array):\n",
        "  print(f\"array[{i}] = {value}\")\n",
        "```\n",
        "As a bonus, enumerate accepts the starting value, so you can get rid of your `i + 1` logic throughout the loop body.  You can nest other iterables into enumerate, just be careful in unpacking.  Adding a title to our subplot example:\n",
        "```python\n",
        "for i, (subplot, x_val, y_val, color) in enumerate(zip(subplots, x_values, y_values, colors), start=1):\n",
        "  subplot.plot(x_val, y_val, color)\n",
        "  subplot.set_title(f\"Plot #{i}\")\n",
        "```"
      ],
      "metadata": {
        "id": "-iFD_3LnEaXE"
      }
    },
    {
      "cell_type": "markdown",
      "source": [
        "#### Exercise\n",
        "Can you improve the `get_fibs` loop with enumerate?  How about zip?  Why do you think you get an improvement?"
      ],
      "metadata": {
        "id": "r2orsLbZDd0H"
      }
    },
    {
      "cell_type": "code",
      "source": [
        "# we will use this example for the first few exercises\n",
        "import re\n",
        "import random\n",
        "import itertools\n",
        "import functools\n",
        "\n",
        "rng = random.Random(12345)\n",
        "\n",
        "names = [\n",
        "    \"abby\",\n",
        "    \"beth\",\n",
        "    \"cathie\",\n",
        "    \"deborah\",\n",
        "    \"ellie\",\n",
        "    \"francine\",\n",
        "    \"grace\",\n",
        "    \"helen\",\n",
        "    \"irene\",\n",
        "    \"jess\",\n",
        "    \"kate\",\n",
        "]\n",
        "statements = [\n",
        "    \"[10] is nice and round\",\n",
        "    \"crazy [8]s\",\n",
        "    \"8[6]7 5309\",\n",
        "    \"[4] corners on a square\",\n",
        "    \"I think that [2] is the best\",\n",
        "    \"[0], how are your corner cases?\",\n",
        "    \"When I look back\" * 100 + \"[11]\",\n",
        "    \"[12] the number is here but your regex will read to the \" + \"end \" * 100,\n",
        "    \"This number is far too large, but I like 100, start with [19]\",\n",
        "    \"[13]\",\n",
        "    \"[15]\",\n",
        "]\n",
        "\n",
        "# going to repeat those a few times to make improvements more noticible\n",
        "repeats = 100\n",
        "names = [name + str(rng.randint(0, 10000)) for name\n",
        "         in itertools.chain.from_iterable(itertools.repeat(names, repeats))]\n",
        "statements = list(itertools.chain.from_iterable(itertools.repeat(statements, repeats)))\n",
        "\n",
        "def get_fibs(names: list, statements: list):\n",
        "  result = {}\n",
        "  for name in names:\n",
        "    index = names.index(name)\n",
        "    statement = statements[index]\n",
        "    value = parse_line(statement)\n",
        "    result[name] = fibonacci(value)\n",
        "  return result\n",
        "\n",
        "@functools.cache\n",
        "def fibonacci(n: int) -> int:\n",
        "  if n > 1:\n",
        "    return fibonacci(n-1) + fibonacci(n-2)\n",
        "  if n == 1:\n",
        "    return 1\n",
        "  return 0\n",
        "\n",
        "def parse_line(line: str) -> int:\n",
        "  match = re.match(\".*\\[(\\d+)].*\", line)\n",
        "  return int(match.group(1))\n",
        "\n",
        "%timeit get_fibs(names, statements)"
      ],
      "metadata": {
        "id": "3MHq4wpDDnP_"
      },
      "execution_count": null,
      "outputs": []
    },
    {
      "cell_type": "markdown",
      "source": [
        "### Niche builtins\n",
        "\n",
        "I don't always need these functions, but sometimes it's nice to not have to write your own:\n",
        "- `any` and `all`.  If you have a list of `True` and `False` values, any and all can test if at least one of them (`any`) are true or if all of them (`all`) are true.  Nice for testing.\n",
        "- `sorted`.  Return a list of the input sequence in sorted order.  As a bonus, you can choose what to sort by (say the second element of a tuple, an object attribute, etc).\n",
        "- `reversed`.  Return a list in the opposite order.  Better than dealing with range nonsense!"
      ],
      "metadata": {
        "id": "iB6_kQt6C9lU"
      }
    },
    {
      "cell_type": "markdown",
      "source": [
        "#### Exercise\n",
        "Above, I used the following for printing the number of calls for each input argument:\n",
        "```python\n",
        "  for i in range(n, 0, -1):\n",
        "    print(f\"fibonacci({i})\\t{calls[i]}\")\n",
        "```\n",
        "Can you propose an improvement?"
      ],
      "metadata": {
        "id": "rY1PmBYCDr91"
      }
    },
    {
      "cell_type": "markdown",
      "source": [
        "### Builtins to (mostly) avoid\n",
        "Map and filter allow you to alter a collection using function calls.  Say we have our list of 10 numbers:\n",
        "```\n",
        "data = list(range(10))\n",
        "```\n",
        "Map allows you to apply a function to each number in the list to produce a new list of the results.  Filter returns values in a list which pass some test, or predicate.  Let's see it in action:"
      ],
      "metadata": {
        "id": "MO9QeiKEBZ43"
      }
    },
    {
      "cell_type": "code",
      "source": [
        "data = list(range(10))\n",
        "print(\"Mapping x -> x^2\")\n",
        "print(list(map(lambda x: x ** 2, data)))\n",
        "print(\"Filter values that are greater than 5\")\n",
        "print(list(filter(lambda x: x > 5, data)))"
      ],
      "metadata": {
        "id": "5LhP7T9uB7Wx"
      },
      "execution_count": null,
      "outputs": []
    },
    {
      "cell_type": "markdown",
      "source": [
        "Map and filter can be more flexible and directly follow a functional paradigm, but for simple applications are much harder to read than list comprehensions.  More on those later."
      ],
      "metadata": {
        "id": "vF39hFuUCZ0y"
      }
    },
    {
      "cell_type": "markdown",
      "source": [
        "### Itertools\n",
        "The itertools module contains several useful functions and when combined can provide really complex loop constructs in a few lines.  The module is in the standard library but you do have to import it to use it.  [Documentation here](https://docs.python.org/3/library/itertools.html)"
      ],
      "metadata": {
        "id": "GfyAdCVWEU5A"
      }
    },
    {
      "cell_type": "markdown",
      "source": [
        "#### Exercises\n",
        "\n",
        "Replace the following loops with equivalent itertools functions."
      ],
      "metadata": {
        "id": "RvNQZopbHAdw"
      }
    },
    {
      "cell_type": "code",
      "source": [
        "import itertools\n",
        "\n",
        "numbers = list(range(3))\n",
        "letters = 'abcde'\n",
        "symbols = 'αβγδ'\n",
        "\n",
        "# nesting for loops\n",
        "nests = []\n",
        "for number in numbers:\n",
        "  for letter in letters:\n",
        "    for symbol in symbols:\n",
        "      nests.append((number, letter, symbol))\n",
        "print(f\"{nests=}\")\n",
        "\n",
        "# flatten list\n",
        "flattened = []\n",
        "for l in (numbers, letters, symbols):\n",
        "  flattened += l\n",
        "print(f\"{flattened=}\")\n",
        "\n",
        "# get indexes 2 to 6 of combined lists\n",
        "slices = []\n",
        "for i, number in enumerate(numbers):\n",
        "  if 2 <= i < 6:\n",
        "    slices.append(number)\n",
        "\n",
        "for i, letter in enumerate(letters, i+1):\n",
        "  if 2 <= i < 6:\n",
        "    slices.append(letter)\n",
        "\n",
        "for i, symbol in enumerate(symbols, i+1):\n",
        "  if 2 <= i < 6:\n",
        "    slices.append(symbol)\n",
        "print(f\"{slices=}\")\n",
        "\n",
        "# symbol * number\n",
        "times = []\n",
        "for number, symbol in zip(numbers, symbols):\n",
        "  times.append(symbol * number)\n",
        "print(f\"{times=}\")\n",
        "\n",
        "# combine and batch of 4\n",
        "batches = []\n",
        "for i, number in enumerate(numbers):\n",
        "  if i % 4 == 0:\n",
        "    batches.append([])\n",
        "  batches[-1].append(number)\n",
        "\n",
        "for i, letter in enumerate(letters, i+1):\n",
        "  if i % 4 == 0:\n",
        "    batches.append([])\n",
        "  batches[-1].append(letter)\n",
        "\n",
        "for i, symbol in enumerate(symbols, i+1):\n",
        "  if i % 4 == 0:\n",
        "    batches.append([])\n",
        "  batches[-1].append(symbol)\n",
        "print(f\"{batches=}\")"
      ],
      "metadata": {
        "id": "Kl5yBSlJNlAd"
      },
      "execution_count": null,
      "outputs": []
    },
    {
      "cell_type": "markdown",
      "source": [
        "#### Solutions"
      ],
      "metadata": {
        "id": "odynO5wHQ_le"
      }
    },
    {
      "cell_type": "code",
      "source": [
        "import itertools\n",
        "from collections import defaultdict\n",
        "\n",
        "numbers = list(range(3))\n",
        "letters = 'abcde'\n",
        "symbols = 'αβγδ'\n",
        "\n",
        "# converting to lists to test for equality, usually want iterators\n",
        "lists = (numbers, letters, symbols)\n",
        "\n",
        "# nesting for loops\n",
        "inests = list(itertools.product(*lists))\n",
        "assert nests == inests\n",
        "\n",
        "# flatten list\n",
        "iflattened = list(itertools.chain(*lists))\n",
        "assert flattened == iflattened\n",
        "\n",
        "# get indexes 2 to 6 of combined lists\n",
        "islices = list(itertools.islice(itertools.chain(*lists), 2, 6))\n",
        "assert slices == islices\n",
        "\n",
        "# symbol * number\n",
        "itimes = list(itertools.starmap(lambda x, y: x * y, zip(numbers, symbols)))\n",
        "assert times == itimes\n",
        "\n",
        "# combine and batch of 4, python >=3.12\n",
        "# ibatches = list(itertools.batched(itertools.chain(*lists), n=4))\n",
        "# assert batches == ibatches\n",
        "\n",
        "ibatches = list(\n",
        "    list(val[1] for val in g)  # get just the values\n",
        "    for k, g in itertools.groupby(enumerate(itertools.chain(*lists)), lambda x: x[0] // 4)  # group into batches\n",
        ")\n",
        "assert batches == ibatches"
      ],
      "metadata": {
        "id": "lUPVVARIRDEP"
      },
      "execution_count": null,
      "outputs": []
    },
    {
      "cell_type": "markdown",
      "source": [
        "## Using the right data structure"
      ],
      "metadata": {
        "id": "ieub2cu_wdNH"
      }
    },
    {
      "cell_type": "markdown",
      "source": [
        "Many new python developers over-use the builtin list data structure.  Lists are easy to grasp coming from languages with arrays as the standard data structure while sets, dicts and tuples seem a bit more exotic or harder to use.  However lists are usually the least performant, especially when you use them to emulate features you get for free in the other data structures.  Use lists if you want to change (add or remove) items and the values don't need to be unique."
      ],
      "metadata": {
        "id": "VAdC0_emWIsN"
      }
    },
    {
      "cell_type": "markdown",
      "source": [
        "### Sets: mutable and unique\n",
        "\n",
        "Consider the following to add items into a list, only if the value is not already in the list:"
      ],
      "metadata": {
        "id": "d40aPrhEXchF"
      }
    },
    {
      "cell_type": "code",
      "source": [
        "def unique_list(numbers):\n",
        "  my_list = list(range(numbers))\n",
        "  new_list = list(range(numbers*2))\n",
        "  for value in new_list:\n",
        "    if value not in my_list:\n",
        "      my_list.append(value)\n",
        "%timeit unique_list(10_000)"
      ],
      "metadata": {
        "id": "pX_cAlKdXrjt"
      },
      "execution_count": null,
      "outputs": []
    },
    {
      "cell_type": "markdown",
      "source": [
        "This works, but is slow because you have to search for each incoming value (`value not in my_list`) and then you append the value.  Sets have the invariant that all items are unique.  Membership is tested using a fast hashing method, instead of iterating over the entire list.  When you have unique items, you almost always want to use a set.  The only exception is if order of the items is important."
      ],
      "metadata": {
        "id": "It4D-OhRX2gl"
      }
    },
    {
      "cell_type": "code",
      "source": [
        "def unique_set(numbers):\n",
        "  my_set = set(range(numbers))\n",
        "  new_set = set(range(numbers*2))\n",
        "  for value in new_set:\n",
        "    if value not in my_set:\n",
        "      my_set.add(value)\n",
        "%timeit unique_set(10_000)"
      ],
      "metadata": {
        "id": "YLnl86EGZNlS"
      },
      "execution_count": null,
      "outputs": []
    },
    {
      "cell_type": "markdown",
      "source": [
        "Sets also have methods for performing mathematical set operations like intersection (`&`) and union (`|`).  These are faster than the equivalent for loops because you bypass the `add` method lookup and execution.  Here we want the union:"
      ],
      "metadata": {
        "id": "hRHt3iyiZZFS"
      }
    },
    {
      "cell_type": "code",
      "source": [
        "def unique_set(numbers):\n",
        "  my_set = set(range(numbers))\n",
        "  new_set = set(range(numbers*2))\n",
        "  my_set = my_set | new_set\n",
        "%timeit unique_set(10_000)"
      ],
      "metadata": {
        "id": "426hvsqQZhdp"
      },
      "execution_count": null,
      "outputs": []
    },
    {
      "cell_type": "markdown",
      "source": [
        "### Tuples: immutable lists\n",
        "\n",
        "Tuples aren't used enough in python.  Lists are an easy default but they have performance implications even in getting an item.  Tuples are like lists in that they allow duplicates but you cannot add or remove items.  When you see a list in your code, consider if you actually change it during execution.  One common example is in for loops:\n",
        "```python\n",
        "for color in ['red', 'green', 'blue']:\n",
        "  ...\n",
        "# could be\n",
        "for color in ('red', 'green', 'blue'):\n",
        "  ...\n",
        "```\n",
        "This small example probably won't matter, but it's good practice to default to tuples and only use lists if you decide you have to add or remove items."
      ],
      "metadata": {
        "id": "17xvsN5HZvJa"
      }
    },
    {
      "cell_type": "code",
      "source": [
        "def list_get(numbers):\n",
        "  my_list = list(range(numbers))\n",
        "  for i in range(numbers):\n",
        "    n = my_list[i]\n",
        "\n",
        "%timeit list_get(100_000)"
      ],
      "metadata": {
        "id": "Mb5pxOY4wssD"
      },
      "execution_count": null,
      "outputs": []
    },
    {
      "cell_type": "code",
      "source": [
        "def tuple_get(numbers):\n",
        "  my_tuple = tuple(range(numbers))\n",
        "  for i in range(numbers):\n",
        "    n = my_tuple[i]\n",
        "\n",
        "%timeit tuple_get(100_000)"
      ],
      "metadata": {
        "id": "Qxx4FeEAxA58"
      },
      "execution_count": null,
      "outputs": []
    },
    {
      "cell_type": "markdown",
      "source": [
        "### Dicts: relating two collections\n",
        "\n",
        "One of the least performant and hardest to read anti-patterns is using two lists instead of a dict.  Something like:\n",
        "```python\n",
        "names = ['steve', 'jim', 'howard']\n",
        "foods = ['apple', 'banana', 'citrus']\n",
        "```\n",
        "where the relation between names and foods is solely through indexing, e.g. `names[0]` corresponds to `foods[0]`.  This is hard to read and reason about because the relation is not enforced or clear.  How do you know *those* two lists are related?  It's not performant because of issues related to lists.\n",
        "\n",
        "Dicts relate keys, like an index, to values which can be any object.  The underlying key structure is similar to a set, so you get fast checks for membership and lookups.  keys and values are both iterables and can be used directly in a loop, don't cast to lists!\n",
        "\n"
      ],
      "metadata": {
        "id": "3Pf3jQWqxgKi"
      }
    },
    {
      "cell_type": "code",
      "source": [
        "# bad\n",
        "names = ['steve', 'jim', 'howard']\n",
        "foods = ['apple', 'banana', 'citrus']\n",
        "\n",
        "for name, food in zip(names, foods):\n",
        "  print(f\"{name} likes {food}\")\n",
        "\n",
        "# direct initialization\n",
        "favorite_foods = {\n",
        "    'steve': 'apple',\n",
        "    'jim': 'banana',\n",
        "    'howard': 'citrus'\n",
        "}\n",
        "\n",
        "# from lists\n",
        "favorite_foods = dict(zip(names, foods))\n",
        "\n",
        "for name in list(favorite_foods.keys()):  # boo, don't need a list\n",
        "  food = favorite_foods[name]  # yuck\n",
        "  print(f\"{name} likes {food}\")\n",
        "\n",
        "for name in favorite_foods:  # better, default iterator is over keys\n",
        "  food = favorite_foods[name]  # yuck\n",
        "  print(f\"{name} likes {food}\")\n",
        "\n",
        "for name, food in favorite_foods.items():  # best\n",
        "  print(f\"{name} likes {food}\")\n"
      ],
      "metadata": {
        "id": "Ykg4jUT0ypD3"
      },
      "execution_count": null,
      "outputs": []
    },
    {
      "cell_type": "markdown",
      "source": [
        "#### Exercise\n",
        "\n",
        "Replace the two lists of names and statements with a dict."
      ],
      "metadata": {
        "id": "iinOeqc4zvA3"
      }
    },
    {
      "cell_type": "code",
      "source": [
        "# we will use this example for the first few exercises\n",
        "import re\n",
        "import random\n",
        "import itertools\n",
        "import functools\n",
        "\n",
        "rng = random.Random(12345)\n",
        "\n",
        "names = [\n",
        "    \"abby\",\n",
        "    \"beth\",\n",
        "    \"cathie\",\n",
        "    \"deborah\",\n",
        "    \"ellie\",\n",
        "    \"francine\",\n",
        "    \"grace\",\n",
        "    \"helen\",\n",
        "    \"irene\",\n",
        "    \"jess\",\n",
        "    \"kate\",\n",
        "]\n",
        "statements = [\n",
        "    \"[10] is nice and round\",\n",
        "    \"crazy [8]s\",\n",
        "    \"8[6]7 5309\",\n",
        "    \"[4] corners on a square\",\n",
        "    \"I think that [2] is the best\",\n",
        "    \"[0], how are your corner cases?\",\n",
        "    \"When I look back\" * 100 + \"[11]\",\n",
        "    \"[12] the number is here but your regex will read to the \" + \"end \" * 100,\n",
        "    \"This number is far too large, but I like 100, start with [19]\",\n",
        "    \"[13]\",\n",
        "    \"[15]\",\n",
        "]\n",
        "\n",
        "# going to repeat those a few times to make improvements more noticible\n",
        "repeats = 100\n",
        "names = [name + str(rng.randint(0, 10000)) for name\n",
        "         in itertools.chain.from_iterable(itertools.repeat(names, repeats))]\n",
        "statements = list(itertools.chain.from_iterable(itertools.repeat(statements, repeats)))\n",
        "\n",
        "def get_fibs(names: list, statements: list):\n",
        "  result = {}\n",
        "  for index, name in enumerate(names):\n",
        "    statement = statements[index]\n",
        "    value = parse_line(statement)\n",
        "    result[name] = fibonacci(value)\n",
        "  return result\n",
        "\n",
        "@functools.cache\n",
        "def fibonacci(n: int) -> int:\n",
        "  if n > 1:\n",
        "    return fibonacci(n-1) + fibonacci(n-2)\n",
        "  if n == 1:\n",
        "    return 1\n",
        "  return 0\n",
        "\n",
        "def parse_line(line: str) -> int:\n",
        "  match = re.match(\".*\\[(\\d+)].*\", line)\n",
        "  return int(match.group(1))\n",
        "\n",
        "%timeit get_fibs(names, statements)"
      ],
      "metadata": {
        "id": "vy1pguX7zwF2"
      },
      "execution_count": null,
      "outputs": []
    },
    {
      "cell_type": "markdown",
      "source": [
        "### Just use numpy"
      ],
      "metadata": {
        "id": "q43_ZsFwxddk"
      }
    },
    {
      "cell_type": "markdown",
      "source": [
        "numpy is the de-facto numerical library for python.  It is space efficient because numpy arrays hold only a single type, say integer or floating point, which cuts down significantly on the type information python has to carry around with lists.  It is fast because under the hood operations call highly-optimized, compiled functions.  Common mathematical operations have dedicated functions so you don't have to write your own.  \n",
        "\n",
        "Once you get creative with matrix operations, you can remove most of the loops from your code and replace them with numpy functions.  Note this can sometimes obfuscate your code so keep the clearer, original version in your unit tests to ensure outputs are equal and act as documentation.\n",
        "\n",
        "If you do any sort of numerical operations on many items, spend time learning numpy.  We don't have the time here."
      ],
      "metadata": {
        "id": "1lJulpBu0C9X"
      }
    },
    {
      "cell_type": "markdown",
      "source": [
        "## Replace loops with comprehensions"
      ],
      "metadata": {
        "id": "5vyl9aUVBJZ5"
      }
    },
    {
      "cell_type": "markdown",
      "source": [
        "New python developers shy away from list comprehensions because the syntax can be confusing, but they are succinct and actually faster than equivalent for loops.  Because of this, comprehensions are common in python code.\n",
        "\n",
        "Starting with lists, let's make a list of sequential digits:"
      ],
      "metadata": {
        "id": "jvapA0ZH1G2H"
      }
    },
    {
      "cell_type": "code",
      "source": [
        "def loop_list(number):\n",
        "  result = []\n",
        "  for i in range(number):\n",
        "    result.append(number)\n",
        "  return result\n",
        "\n",
        "def list_comp(number):\n",
        "  return [i for i in range(number)]\n",
        "\n",
        "def list_func(number):\n",
        "  return list(range(number))\n",
        "\n",
        "%timeit loop_list(100_000)\n",
        "%timeit list_comp(100_000)\n",
        "%timeit list_func(100_000)"
      ],
      "metadata": {
        "id": "lopR7I8v2UJJ"
      },
      "execution_count": null,
      "outputs": []
    },
    {
      "cell_type": "markdown",
      "source": [
        "You can see comprehensions are about twice as fast as a loop.  Mostly this is due to avoiding calls to `append`.  Function calls in python are somewhat expensive and without compiling the computer isn't able to inline or optimize calls in loops.  The call to the `list` function is about twice as fast again, but it is less flexible.  List comprehensions make it easy to filter and nest loops:"
      ],
      "metadata": {
        "id": "z0fhcz4q28ja"
      }
    },
    {
      "cell_type": "code",
      "source": [
        "result = []\n",
        "for fruit in ('apple', 'banana'):\n",
        "  for i in range(5):\n",
        "    if i % 2 == 0:\n",
        "      result.append(f'{fruit} -> {i}')\n",
        "\n",
        "print(result)\n",
        "\n",
        "print([\n",
        "    f'{fruit} -> {i}'\n",
        "    for fruit in ('apple', 'banana')\n",
        "    for i in range(5)\n",
        "    if i % 2 == 0\n",
        "])"
      ],
      "metadata": {
        "id": "DzBVmmvP3Xlb"
      },
      "execution_count": null,
      "outputs": []
    },
    {
      "cell_type": "markdown",
      "source": [
        "You can use almost the same syntax for set and dictionary comprehensions.  Finally, if you use parentheses you create a generator, which is iterable but evaluated lazily"
      ],
      "metadata": {
        "id": "29F896H64FRn"
      }
    },
    {
      "cell_type": "code",
      "source": [
        "print('a list', [i for i in range(5)])\n",
        "print('a set', {i for i in range(5)})\n",
        "print('a generator', (i for i in range(5)))\n",
        "print('a dict', {i: i**2 for i in range(5)})"
      ],
      "metadata": {
        "id": "r-GJFLRH4SPu"
      },
      "execution_count": null,
      "outputs": []
    },
    {
      "cell_type": "markdown",
      "source": [
        "### Exercise\n",
        "\n",
        "Replace the `dict` function below with a generator expression.  Replace the get_fibs implementation with a comprehension."
      ],
      "metadata": {
        "id": "oqsdgJ054tz0"
      }
    },
    {
      "cell_type": "code",
      "source": [
        "# we will use this example for the first few exercises\n",
        "import re\n",
        "import random\n",
        "import itertools\n",
        "import functools\n",
        "\n",
        "rng = random.Random(12345)\n",
        "\n",
        "names = [\n",
        "    \"abby\",\n",
        "    \"beth\",\n",
        "    \"cathie\",\n",
        "    \"deborah\",\n",
        "    \"ellie\",\n",
        "    \"francine\",\n",
        "    \"grace\",\n",
        "    \"helen\",\n",
        "    \"irene\",\n",
        "    \"jess\",\n",
        "    \"kate\",\n",
        "]\n",
        "statements = [\n",
        "    \"[10] is nice and round\",\n",
        "    \"crazy [8]s\",\n",
        "    \"8[6]7 5309\",\n",
        "    \"[4] corners on a square\",\n",
        "    \"I think that [2] is the best\",\n",
        "    \"[0], how are your corner cases?\",\n",
        "    \"When I look back\" * 100 + \"[11]\",\n",
        "    \"[12] the number is here but your regex will read to the \" + \"end \" * 100,\n",
        "    \"This number is far too large, but I like 100, start with [19]\",\n",
        "    \"[13]\",\n",
        "    \"[15]\",\n",
        "]\n",
        "\n",
        "# going to repeat those a few times to make improvements more noticible\n",
        "repeats = 100\n",
        "data = dict(zip(\n",
        "    (name + str(rng.randint(0, 10000)) for name in itertools.chain.from_iterable(itertools.repeat(names, repeats))),\n",
        "    itertools.chain.from_iterable(itertools.repeat(statements, repeats))\n",
        "    ))\n",
        "\n",
        "def get_fibs(data: dict):\n",
        "  result = {}\n",
        "  for name, statement in data.items():\n",
        "    value = parse_line(statement)\n",
        "    result[name] = fibonacci(value)\n",
        "  return result\n",
        "\n",
        "@functools.cache\n",
        "def fibonacci(n: int) -> int:\n",
        "  if n > 1:\n",
        "    return fibonacci(n-1) + fibonacci(n-2)\n",
        "  if n == 1:\n",
        "    return 1\n",
        "  return 0\n",
        "\n",
        "def parse_line(line: str) -> int:\n",
        "  match = re.match(\".*\\[(\\d+)].*\", line)\n",
        "  return int(match.group(1))\n",
        "\n",
        "%timeit get_fibs(data)"
      ],
      "metadata": {
        "id": "J5XjA6o94y2N"
      },
      "execution_count": null,
      "outputs": []
    },
    {
      "cell_type": "markdown",
      "source": [
        "## Efficient string building"
      ],
      "metadata": {
        "id": "bexPFqGIwmHg"
      }
    },
    {
      "cell_type": "markdown",
      "source": [
        "There are two flavors of string building, combining different variables into a template and joining items from a collection.  Let's start with our favorite food example:"
      ],
      "metadata": {
        "id": "w5vwHeCQO5TM"
      }
    },
    {
      "cell_type": "code",
      "source": [
        "favorite_foods = {\n",
        "    'steve': ['apple', 'cheese', 'bread'],\n",
        "    'jim': ['banana', 'peanut butter'],\n",
        "    'howard': ['citrus', 'fish', 'butter'],\n",
        "}\n",
        "\n",
        "result = ''\n",
        "for person, foods in favorite_foods.items():\n",
        "  result += person + ' really likes '\n",
        "  for i, food in enumerate(foods):\n",
        "    result += food\n",
        "    if i != len(foods) -1:\n",
        "      result += \", \"\n",
        "  result += '!\\n'\n",
        "print(result)"
      ],
      "metadata": {
        "id": "sXuXZnnpPRzs"
      },
      "execution_count": null,
      "outputs": []
    },
    {
      "cell_type": "markdown",
      "source": [
        "### Exercise\n",
        "In the code above, where are you combining into a template and where are you joining?  Can you explain the if statement?"
      ],
      "metadata": {
        "id": "YNyCiyZuQOvl"
      }
    },
    {
      "cell_type": "markdown",
      "source": [
        "### Formatting and f-strings\n",
        "\n",
        "String building with `+` and `+=` is slow for the same reasons appending to a list is slow.  You have overhead for function calls and you have to resize your collection.  The first method of removing `+` is using formatting.  You format a string with a call to `format`.  f-strings use similar templating but you don't even need the function call:"
      ],
      "metadata": {
        "id": "1Xl2pZoNQXZF"
      }
    },
    {
      "cell_type": "code",
      "source": [
        "name = 'steve'\n",
        "food = 'apples'\n",
        "\n",
        "print(name + ' really likes ' + food + '!')  # slow, hard to read and type\n",
        "print(\"{name} really likes {food}!\".format(name=name, food=food))  # better, can pass template as argument\n",
        "print(f\"{name} really likes {food}!\")  # good if you don't need to pass the string\n",
        "    # ^ note this f!\n",
        "\n",
        "x = 1\n",
        "print('x = ' + str(x))  # can only add strings, have to force string here!\n",
        "print('x = {x}'.format(x=x))  # format and f strings handle that for you\n",
        "print(f'x = {x}')"
      ],
      "metadata": {
        "id": "wR15t8aIQzTb"
      },
      "execution_count": null,
      "outputs": []
    },
    {
      "cell_type": "markdown",
      "source": [
        "Both format and f strings are fast.  f strings also have some nice formatting features that are handy to know."
      ],
      "metadata": {
        "id": "H1t8TXo4RN__"
      }
    },
    {
      "cell_type": "code",
      "source": [
        "pi = 3.1415\n",
        "alphabet = 'abcdefghijklmnopqrstuvwxyz'\n",
        "number = 42\n",
        "\n",
        "print(f'A variable with an equal prints the variable name {number=}')\n",
        "print(f'You can even use expressions with it like {pi+number=}')\n",
        "print(f'Most python code is allowed, like {len(alphabet)=} or {1+3=}')\n",
        "print(f'Formatting floating numbers is handy but hard to remember {pi=:0.2f} vs {pi=}')\n",
        "print(f'Or pad |{number:<40}|')\n",
        "print(f'Or pad |{number:>40}|')\n",
        "print(f'Use double {{braces}} to print braces {number}')"
      ],
      "metadata": {
        "id": "PyHf1yegRYP_"
      },
      "execution_count": null,
      "outputs": []
    },
    {
      "cell_type": "markdown",
      "source": [
        "### Joining strings\n",
        "The other common string building operation is joining tokens with some delimiter.  Say you have a list of items and you want to print them comma separated or print items on separate lines.  This can be difficult if you want to properly handle cases like a single item, no items, and you want to not have an \"extra\" separator at the beginning or end."
      ],
      "metadata": {
        "id": "Mh2vsQFBScaK"
      }
    },
    {
      "cell_type": "code",
      "source": [
        "def my_join(strings: list):\n",
        "  result = ''\n",
        "  for string in strings:\n",
        "    result += string + \", \"\n",
        "  return result\n",
        "\n",
        "print('empty list')\n",
        "print(my_join([]))\n",
        "print('one item')\n",
        "print(my_join(['apple']))\n",
        "print('more items')\n",
        "print(my_join(['apple', 'banana']))"
      ],
      "metadata": {
        "id": "vgxSPsSIRfbd"
      },
      "execution_count": null,
      "outputs": []
    },
    {
      "cell_type": "markdown",
      "source": [
        "The builtin for the job is `join`.  The syntax is a little odd at first.  `join` is a string method on the *delimiter* and takes as arguments the string iterable you want joined.  Here are some examples."
      ],
      "metadata": {
        "id": "x34Aj5iBshoy"
      }
    },
    {
      "cell_type": "code",
      "source": [
        "print(','.join([]))\n",
        "print(', '.join(['apple']))\n",
        "print(', '.join(['apple', 'banana']))\n",
        "print(', '.join(str(i) for i in range(4)))  # can take generators, must be strings\n",
        "print('|'.join('-'*5 for i in range(4)))  # change delimiter"
      ],
      "metadata": {
        "id": "3rvS-Ns5s66s"
      },
      "execution_count": null,
      "outputs": []
    },
    {
      "cell_type": "markdown",
      "source": [
        "And a speed comparison"
      ],
      "metadata": {
        "id": "IRNVlcU6tbm3"
      }
    },
    {
      "cell_type": "code",
      "source": [
        "def py_join(strings: list):\n",
        "  return ', '.join(strings)\n",
        "\n",
        "strings = ['abcdefghijklmnopqrstuvwxyz'[i%26] for i in range(10_000)]\n",
        "%timeit my_join(strings)\n",
        "%timeit py_join(strings)"
      ],
      "metadata": {
        "id": "tOgj_b8ftdbP"
      },
      "execution_count": null,
      "outputs": []
    },
    {
      "cell_type": "markdown",
      "source": [
        "### Exercise\n",
        "\n",
        "Use join and formatting to improve the following code:"
      ],
      "metadata": {
        "id": "x3gmhM06t9t5"
      }
    },
    {
      "cell_type": "code",
      "source": [
        "favorite_foods = {\n",
        "    'steve': ['apple', 'cheese', 'bread'],\n",
        "    'jim': ['banana', 'peanut butter'],\n",
        "    'howard': ['citrus', 'fish', 'butter'],\n",
        "}\n",
        "\n",
        "result = ''\n",
        "for person, foods in favorite_foods.items():\n",
        "  result += person + ' really likes '\n",
        "  for i, food in enumerate(foods):\n",
        "    result += food\n",
        "    if i != len(foods) -1:\n",
        "      result += \", \"\n",
        "  result += '!\\n'\n",
        "print(result)"
      ],
      "metadata": {
        "id": "Q3uv4oUEuDxI"
      },
      "execution_count": null,
      "outputs": []
    },
    {
      "cell_type": "markdown",
      "source": [
        "### Solution"
      ],
      "metadata": {
        "id": "lRWYHgNiuG73"
      }
    },
    {
      "cell_type": "code",
      "source": [
        "favorite_foods = {\n",
        "    'steve': ['apple', 'cheese', 'bread'],\n",
        "    'jim': ['banana', 'peanut butter'],\n",
        "    'howard': ['citrus', 'fish', 'butter'],\n",
        "}\n",
        "print('\\n'.join(\n",
        "    f\"{person} really likes {', '.join(foods)}!\"\n",
        "    for person, foods in favorite_foods.items()\n",
        "))"
      ],
      "metadata": {
        "id": "sAvQ3r9juF3p"
      },
      "execution_count": null,
      "outputs": []
    },
    {
      "cell_type": "markdown",
      "source": [
        "## Supercharging regular expressions"
      ],
      "metadata": {
        "id": "ZgMGZt8PwquB"
      }
    },
    {
      "cell_type": "markdown",
      "source": [
        "Regular expressions are as powerful as they are terse.  Whole books have been written on regex's so we can't cover everything.  I just want to impart two points:\n",
        "- regex's are evaluated greedily and stupidly\n",
        "- the more specific, the better\n",
        "- specifically for python, compile any regexes you use more than once.\n",
        "\n",
        "Let's focus on our regex from earlier:\n",
        "```python\n",
        "line = \"I think that [2] is the best\"\n",
        "re.match(\".*\\[(\\d+)].*\", line)\n",
        "```\n",
        "\n",
        "Here `match` must match at the start of the line.  The first token `.*` matches to anything.  As such, the first step in the evaluation is to match the entire line.  Next, the engine sees the last character `t` doesn't match a literal `[` so it has to backtrack.  If your string is long and the opening bracket in the beginning, this can be a bit expensive."
      ],
      "metadata": {
        "id": "ZsoQQlWwJ577"
      }
    },
    {
      "cell_type": "markdown",
      "source": [
        "### Exercise\n",
        "Can you think of a better matching statement than `.*` for the first part of the string?"
      ],
      "metadata": {
        "id": "LAthn9WULo17"
      }
    },
    {
      "cell_type": "markdown",
      "source": [
        "We don't really need the entire string, so why do we bother matching against it?  A better option would be to just extract the portion we need, a number in braces.  The function for the job is `search`.  Then our regex can simply be `r\"\\[(\\d+)]\"`.  By being more specific we can make our matching robust and fast.\n",
        "\n",
        "The final way to supercharge regular expressions in python is to pre-compile them.  From the documentation:\n",
        "```python\n",
        "#The sequence\n",
        "\n",
        "prog = re.compile(pattern)\n",
        "result = prog.match(string)\n",
        "#is equivalent to\n",
        "\n",
        "result = re.match(pattern, string)\n",
        "```\n",
        "It also states that\n",
        "> The compiled versions of the most recent patterns passed to re.compile() and the module-level matching functions are cached, so programs that use only a few regular expressions at a time needn't worry about compiling regular expressions.\n",
        "\n",
        "I would still compile if regular expressions are a large part of your project.  You may only use one, but maybe libraries you import use enough to fill the cache.\n",
        "\n",
        "Here are some timing experiments:"
      ],
      "metadata": {
        "id": "-DwIf-vjLzZI"
      }
    },
    {
      "cell_type": "code",
      "source": [
        "import re\n",
        "\n",
        "line = \"[12] the number is here but your regex will read to the \" + \"end \" * 10_000\n",
        "\n",
        "def match_parse(line):\n",
        "  match = re.match(\".*\\[(\\d+)].*\", line)\n",
        "  return int(match.group(1))\n",
        "\n",
        "def search_parse(line):\n",
        "  match = re.search(\"\\[(\\d+)]\", line)\n",
        "  return int(match.group(1))\n",
        "\n",
        "REGEX = re.compile(\"\\[(\\d+)]\")\n",
        "def compiled_parse(line):\n",
        "  match = REGEX.search(line)\n",
        "  return int(match.group(1))\n",
        "\n",
        "%timeit match_parse(line)\n",
        "%timeit search_parse(line)\n",
        "%timeit compiled_parse(line)"
      ],
      "metadata": {
        "id": "Q6pEMtDPNhl_"
      },
      "execution_count": null,
      "outputs": []
    },
    {
      "cell_type": "markdown",
      "source": [
        "## Using context managers\n",
        "\n",
        "Context managers are another great dose of python syntactic sugar.  They allow you to ensure a function is called at the start and end of a code block.  Uses can be as diverse as locking a semaphore, connecting to a database, or temporarily setting numeric precision.  Here we will focus on file managers.  Coming from other languages you are probably familiar with the following:\n",
        "```python\n",
        "my_file = open('file.txt')\n",
        "# do work\n",
        "my_file.close()\n",
        "```\n",
        "The problems with explicitly calling close are that you may forget to call it and if your work raises an exception, it may never be called.  Context managers solve both these issues:\n",
        "```python\n",
        "with open('file.txt') as my_file:\n",
        "  # do work\n",
        "```\n",
        "If you have lots of files, consider using an [`ExitStack`](https://docs.python.org/3/library/contextlib.html#contextlib.ExitStack).  For custom context managers, look into the [contextmanager decorator](https://docs.python.org/3/library/contextlib.html#contextlib.contextmanager)."
      ],
      "metadata": {
        "id": "WMJVI7X_xJRc"
      }
    },
    {
      "cell_type": "markdown",
      "source": [
        "## Clean up your print statements\n",
        "\n",
        "We all have used print statements for debugging code, but did you know those can also have performance implications?  Writing and synchronizing outputs to the terminal can really slow down your code.  Make sure you search and remove any unnecessary print statements.  Look into logging if you want a tunable handle on your program state.  Automated solutions with pre-commit integration are also available."
      ],
      "metadata": {
        "id": "D1HP2vekxpO9"
      }
    },
    {
      "cell_type": "markdown",
      "source": [
        "## Import what you need\n",
        "\n",
        "A final quick tip is to only import what you need.  This works two ways: avoiding star imports and only importing libraries you use in a file.\n",
        "\n",
        "```python\n",
        "from pandas import *\n",
        "my_df = DataFrame()\n",
        "# vs\n",
        "import pandas\n",
        "my_df = pandas.DataFrame()\n",
        "```\n",
        "The first may look like it saves typing, but it pollutes your name space, makes it harder to see which function is called and from where, and can slow down execution by importing every function in a library.\n",
        "\n",
        "```\n",
        "import torch\n",
        "import pandas\n",
        "import numpy\n",
        "\n",
        "print('hello world')\n",
        "```\n",
        "This seems silly, but often during refactoring you will pull functions into other files and leave vistigial imports.  These unused imports can add to execution slowdowns as you import (and compile) libraries unnecessarily.  Again there are automated options with pre-commit."
      ],
      "metadata": {
        "id": "nIWiKS5Sxsw9"
      }
    },
    {
      "cell_type": "markdown",
      "source": [
        "## Closing\n",
        "We choose python for different reasons, it is easy to read, fun to write, and a great starting language.  Using python-specific constructs helps you write more pythonic code that is easier for other developers to understand.  Once you are familiar with list comprehensions, it's easier to follow a one-line comprehension than the equivalent for loop.  You may be surprised that pythonic code also frequently runs faster.  This is because the language can use shortcuts for performing operations; e.g. bypassing `list.append` in list comprehensions.\n",
        "\n",
        "I hope you've learned at least one trick to make your code fast, pythonic, and fun!"
      ],
      "metadata": {
        "id": "o0zDWWmCVs8D"
      }
    }
  ]
}
